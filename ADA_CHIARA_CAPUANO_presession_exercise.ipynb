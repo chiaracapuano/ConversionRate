{
 "cells": [
  {
   "cell_type": "markdown",
   "metadata": {
    "collapsed": true,
    "pycharm": {
     "name": "#%% md\n"
    }
   },
   "source": [
    "I load all the libraries I am going to use to explore the data, create a model and evaluate it."
   ]
  },
  {
   "cell_type": "code",
   "source": [
    "import pandas as pd\n",
    "import matplotlib.pyplot as plt\n",
    "import seaborn as sn\n",
    "from sklearn.linear_model import LogisticRegressionCV\n",
    "from sklearn.model_selection import train_test_split\n",
    "from sklearn import metrics"
   ],
   "metadata": {
    "collapsed": false,
    "pycharm": {
     "name": "#%%\n"
    }
   },
   "execution_count": null,
   "outputs": []
  },
  {
   "cell_type": "markdown",
   "source": [
    "I upload the dataset into a pandas dataframe.\n",
    "I then check the data types of the columns (I will have to hot-encode non-numerical columns) and the percentage of NaN in the columns."
   ],
   "metadata": {
    "collapsed": false,
    "pycharm": {
     "name": "#%% md\n"
    }
   }
  },
  {
   "cell_type": "code",
   "execution_count": null,
   "outputs": [],
   "source": [
    "data = pd.read_csv(\"./conversion_data.csv\")\n",
    "\n",
    "#print data types and percentage of Nan in columns\n",
    "print(data.dtypes)\n",
    "for col in data:\n",
    "    sum_nan = data[col].isnull().sum()\n",
    "    print(col, sum_nan/len(data[col])*100, ' %')"
   ],
   "metadata": {
    "collapsed": false,
    "pycharm": {
     "name": "#%%\n"
    }
   }
  },
  {
   "cell_type": "markdown",
   "source": [
    "There are non Nan values, so I don't have to worry about them.\n",
    "I can proceed with hot-encoding the two object-type columns:"
   ],
   "metadata": {
    "collapsed": false,
    "pycharm": {
     "name": "#%% md\n"
    }
   }
  },
  {
   "cell_type": "code",
   "execution_count": null,
   "outputs": [],
   "source": [
    "#First I create a list of the object-type column names.\n",
    "obj_cols = []\n",
    "for col in data.columns:\n",
    "    if data[col].dtype == 'object':\n",
    "        obj_cols.append(col)\n",
    "\n",
    "#Then I hot-encode the columns using get_dummies, and I join the new hot-encoded columns to the old dataset.\n",
    "one_hot = pd.get_dummies(data[obj_cols])\n",
    "data = data.join(one_hot)"
   ],
   "metadata": {
    "collapsed": false,
    "pycharm": {
     "name": "#%%\n"
    }
   }
  },
  {
   "cell_type": "markdown",
   "source": [
    "I usually start exploring the data using a correlation matrix.\n",
    "The matrix will tell me which variables are correlated, so that I can see what influences the conversion rate very quickly:"
   ],
   "metadata": {
    "collapsed": false,
    "pycharm": {
     "name": "#%% md\n"
    }
   }
  },
  {
   "cell_type": "code",
   "execution_count": null,
   "outputs": [],
   "source": [
    "corrMatrix = data.corr()\n",
    "plt.figure(figsize=(15,15))\n",
    "sn.heatmap(corrMatrix, annot=True)\n",
    "plt.show()"
   ],
   "metadata": {
    "collapsed": false,
    "pycharm": {
     "name": "#%%\n"
    }
   }
  },
  {
   "cell_type": "markdown",
   "source": [
    "There is a high correlation between the number of pages visited and the correlation:"
   ],
   "metadata": {
    "collapsed": false
   }
  },
  {
   "cell_type": "code",
   "execution_count": null,
   "outputs": [],
   "source": [
    "plt.hist(x = [data[data['converted']==1]['total_pages_visited'], data[data['converted']==0]['total_pages_visited']],\n",
    "         stacked=True, color = ['tab:green','tab:orange'],label = ['yes','no'])\n",
    "\n",
    "plt.legend()\n",
    "plt.show()"
   ],
   "metadata": {
    "collapsed": false,
    "pycharm": {
     "name": "#%%\n"
    }
   }
  },
  {
   "cell_type": "markdown",
   "source": [
    "The higher number of pages visited in a session the higher the chance of conversion.\n",
    "\n",
    "I also notice a slight correlation between conversion and respectively country, age and wheter the user is new or not:\n",
    "exploring these relations may give some insight into how to improve the conversion rate.\n",
    "\n",
    "conversion (yes, no) vs country:"
   ],
   "metadata": {
    "collapsed": false
   }
  },
  {
   "cell_type": "code",
   "execution_count": null,
   "outputs": [],
   "source": [
    "plt.hist(x = [data[data['converted']==1]['country'], data[data['converted']==0]['country']],\n",
    "         stacked=True, color = ['tab:green','tab:orange'],label = ['yes','no'])\n",
    "plt.legend()\n",
    "plt.show()"
   ],
   "metadata": {
    "collapsed": false,
    "pycharm": {
     "name": "#%%\n"
    }
   }
  },
  {
   "cell_type": "markdown",
   "source": [
    "conversion (yes, no) vs age:"
   ],
   "metadata": {
    "collapsed": false
   }
  },
  {
   "cell_type": "code",
   "execution_count": null,
   "outputs": [],
   "source": [
    "plt.hist(x = [data[data['converted']==1]['age'], data[data['converted']==0]['age']],\n",
    "         stacked=True, color = ['tab:green','tab:orange'],label = ['yes','no'])\n",
    "plt.legend()\n",
    "plt.show()"
   ],
   "metadata": {
    "collapsed": false,
    "pycharm": {
     "name": "#%%\n"
    }
   }
  },
  {
   "cell_type": "markdown",
   "source": [
    "conversion (yes, no) vs new_user:"
   ],
   "metadata": {
    "collapsed": false
   }
  },
  {
   "cell_type": "code",
   "execution_count": null,
   "outputs": [],
   "source": [
    "plt.hist(x = [data[data['converted']==1]['new_user'], data[data['converted']==0]['new_user']],\n",
    "         stacked=True, color = ['tab:green','tab:orange'],label = ['yes','no'])\n",
    "plt.xticks([0,1])\n",
    "\n",
    "plt.legend()\n",
    "plt.show()"
   ],
   "metadata": {
    "collapsed": false,
    "pycharm": {
     "name": "#%%\n"
    }
   }
  },
  {
   "cell_type": "markdown",
   "source": [
    "The conversion vs age plot suggests the presence of odd ages in the dataset, so I will\n",
    "limit the age to 100:"
   ],
   "metadata": {
    "collapsed": false,
    "pycharm": {
     "name": "#%% md\n"
    }
   }
  },
  {
   "cell_type": "code",
   "execution_count": null,
   "outputs": [],
   "source": [
    "data = data[data['age'] < 100]"
   ],
   "metadata": {
    "collapsed": false,
    "pycharm": {
     "name": "#%%\n"
    }
   }
  },
  {
   "cell_type": "markdown",
   "source": [
    "I now can train a Logistic Regression model, using the Recall as metric to evaluate its success.\n",
    "Before splitting the dataset in train and test datasets, I drop the object-type columns that have been hot-encoded and\n",
    "have been used for data exploration, but will not be used for modeling purposes."
   ],
   "metadata": {
    "collapsed": false
   }
  },
  {
   "cell_type": "code",
   "execution_count": null,
   "outputs": [],
   "source": [
    "data = data.drop(obj_cols, axis = 1)\n",
    "\n",
    "#Divide the dataset using the 'converted' columns as label and all the others as features.\n",
    "X = data.drop(columns=['converted'])\n",
    "y = data['converted']\n",
    "X_train, X_test, y_train, y_test = train_test_split(X, y, test_size=0.2)\n",
    "\n",
    "#Train the Logistic Regression classifier\n",
    "clf = LogisticRegressionCV(cv=5, class_weight='balanced', max_iter = 2000, scoring = 'recall').fit(X_train, y_train)\n",
    "res = clf.predict(X_test)\n",
    "\n",
    "\n",
    "print(metrics.recall_score(y_test, res))\n",
    "\n"
   ],
   "metadata": {
    "collapsed": false,
    "pycharm": {
     "name": "#%%\n"
    }
   }
  }
 ],
 "metadata": {
  "kernelspec": {
   "display_name": "Python 3",
   "language": "python",
   "name": "python3"
  },
  "language_info": {
   "codemirror_mode": {
    "name": "ipython",
    "version": 2
   },
   "file_extension": ".py",
   "mimetype": "text/x-python",
   "name": "python",
   "nbconvert_exporter": "python",
   "pygments_lexer": "ipython2",
   "version": "2.7.6"
  }
 },
 "nbformat": 4,
 "nbformat_minor": 0
}