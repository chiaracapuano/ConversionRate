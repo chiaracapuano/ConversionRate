{
 "cells": [
  {
   "cell_type": "markdown",
   "metadata": {
    "collapsed": true,
    "pycharm": {
     "name": "#%% md\n"
    }
   },
   "source": [
    "I load all the libraries I am going to use to explore the data, create a model and evaluate it."
   ]
  },
  {
   "cell_type": "code",
   "source": [
    "import pandas as pd\n",
    "import matplotlib.pyplot as plt\n",
    "import seaborn as sn\n",
    "from sklearn.linear_model import LogisticRegressionCV\n",
    "from sklearn.model_selection import train_test_split\n",
    "from sklearn import metrics"
   ],
   "metadata": {
    "collapsed": false,
    "pycharm": {
     "name": "#%%\n"
    }
   },
   "execution_count": null,
   "outputs": []
  },
  {
   "cell_type": "markdown",
   "source": [
    "I upload the dataset into a pandas dataframe.\n",
    "I then check the data types of the columns (I will have to hot-encode non-numerical columns) and the percentage of NaN in the columns."
   ],
   "metadata": {
    "collapsed": false,
    "pycharm": {
     "name": "#%% md\n"
    }
   }
  },
  {
   "cell_type": "code",
   "execution_count": null,
   "outputs": [],
   "source": [
    "data = pd.read_csv(\"./conversion_data.csv\")\n",
    "\n",
    "#print data types and percentage of Nan in columns\n",
    "print(data.dtypes)\n",
    "for col in data:\n",
    "    sum_nan = data[col].isnull().sum()\n",
    "    print(col, sum_nan/len(data[col])*100, ' %')"
   ],
   "metadata": {
    "collapsed": false,
    "pycharm": {
     "name": "#%%\n"
    }
   }
  },
  {
   "cell_type": "markdown",
   "source": [
    "There are non Nan values, so I don't have to worry about them.\n",
    "I can proceed with hot-encoding the two object-type columns:"
   ],
   "metadata": {
    "collapsed": false,
    "pycharm": {
     "name": "#%% md\n"
    }
   }
  },
  {
   "cell_type": "code",
   "execution_count": null,
   "outputs": [],
   "source": [
    "#First I create a list of the object-type column names.\n",
    "obj_cols = []\n",
    "for col in data.columns:\n",
    "    if data[col].dtype == 'object':\n",
    "        obj_cols.append(col)\n",
    "\n",
    "#Then I hot-encode the columns using get_dummies, and I join the new hot-encoded columns to the old dataset.\n",
    "one_hot = pd.get_dummies(data[obj_cols])\n",
    "data = data.join(one_hot)"
   ],
   "metadata": {
    "collapsed": false,
    "pycharm": {
     "name": "#%%\n"
    }
   }
  }
 ],
 "metadata": {
  "kernelspec": {
   "display_name": "Python 3",
   "language": "python",
   "name": "python3"
  },
  "language_info": {
   "codemirror_mode": {
    "name": "ipython",
    "version": 2
   },
   "file_extension": ".py",
   "mimetype": "text/x-python",
   "name": "python",
   "nbconvert_exporter": "python",
   "pygments_lexer": "ipython2",
   "version": "2.7.6"
  }
 },
 "nbformat": 4,
 "nbformat_minor": 0
}