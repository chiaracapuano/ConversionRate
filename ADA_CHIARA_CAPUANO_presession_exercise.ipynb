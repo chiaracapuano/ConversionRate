{
 "cells": [
  {
   "cell_type": "markdown",
   "metadata": {
    "collapsed": true,
    "pycharm": {
     "name": "#%% md\n"
    }
   },
   "source": [
    "# Overview\n",
    "\n",
    "In the notebook:\n",
    "- data cleaning - entails handling of missing values (if any) and hot-encoding of categorical variables\n",
    "- data exploration - entails investigating the correlation of all the variables (age, country, ...) with the user conversion\n",
    "- modeling - entails training and testing a Logistic Regression model. The model is 5-fold cross-validated.\n",
    "- conclusions - entails suggestions drawn from the exploration part.\n",
    "The metric used to determine the best model is \"Recall\"."
   ]
  },
  {
   "cell_type": "markdown",
   "source": [
    "I load all the libraries I am going to use in the notebook:"
   ],
   "metadata": {
    "collapsed": false
   }
  },
  {
   "cell_type": "code",
   "source": [
    "import pandas as pd\n",
    "import matplotlib.pyplot as plt\n",
    "from sklearn.linear_model import LogisticRegressionCV\n",
    "from sklearn.model_selection import train_test_split\n",
    "from sklearn import metrics\n",
    "from sklearn.preprocessing import MinMaxScaler"
   ],
   "metadata": {
    "collapsed": false,
    "pycharm": {
     "name": "#%%\n"
    }
   },
   "execution_count": 474,
   "outputs": []
  },
  {
   "cell_type": "markdown",
   "source": [
    "# Cleaning\n",
    "\n",
    "I upload the dataset into a pandas dataframe.\n",
    "I then check the data types of the columns (I will have to hot-encode non-numerical columns)\n",
    "and the percentage of missing values (NaN) in the columns."
   ],
   "metadata": {
    "collapsed": false,
    "pycharm": {
     "name": "#%% md\n"
    }
   }
  },
  {
   "cell_type": "code",
   "execution_count": 475,
   "outputs": [
    {
     "name": "stdout",
     "output_type": "stream",
     "text": [
      "country                object\n",
      "age                     int64\n",
      "new_user                int64\n",
      "source                 object\n",
      "total_pages_visited     int64\n",
      "converted               int64\n",
      "dtype: object\n",
      "country 0.0  %\n",
      "age 0.0  %\n",
      "new_user 0.0  %\n",
      "source 0.0  %\n",
      "total_pages_visited 0.0  %\n",
      "converted 0.0  %\n"
     ]
    }
   ],
   "source": [
    "data = pd.read_csv(\"./conversion_data.csv\")\n",
    "\n",
    "#print data types and percentage of NaN in columns\n",
    "print(data.dtypes)\n",
    "for col in data:\n",
    "    sum_nan = data[col].isnull().sum()\n",
    "    print(col, sum_nan/len(data[col])*100, ' %')"
   ],
   "metadata": {
    "collapsed": false,
    "pycharm": {
     "name": "#%%\n"
    }
   }
  },
  {
   "cell_type": "markdown",
   "source": [
    "There are no Nan values, so I don't have to worry about them.\n",
    "I proceed with exploration that might suggest some more cleaning."
   ],
   "metadata": {
    "collapsed": false,
    "pycharm": {
     "name": "#%% md\n"
    }
   }
  },
  {
   "cell_type": "markdown",
   "source": [
    "# Exploration\n"
   ],
   "metadata": {
    "collapsed": false
   }
  },
  {
   "cell_type": "markdown",
   "source": [
    "I check the relationship between the variables I think might be correlated:\n",
    "- number of pages visited and the user conversion:"
   ],
   "metadata": {
    "collapsed": false,
    "pycharm": {
     "name": "#%% md\n"
    }
   }
  },
  {
   "cell_type": "code",
   "execution_count": 476,
   "outputs": [
    {
     "data": {
      "text/plain": "<Figure size 432x288 with 1 Axes>",
      "image/png": "[encoded data removed]"
     },
     "metadata": {
      "needs_background": "light"
     },
     "output_type": "display_data"
    }
   ],
   "source": [
    "plt.hist(x = [data[data['converted']==1]['total_pages_visited'], data[data['converted']==0]['total_pages_visited']],\n",
    "         stacked=True, color = ['tab:green','tab:orange'],label = ['yes','no'])\n",
    "\n",
    "plt.legend()\n",
    "plt.show()"
   ],
   "metadata": {
    "collapsed": false,
    "pycharm": {
     "name": "#%%\n"
    }
   }
  },
  {
   "cell_type": "markdown",
   "source": [
    "- conversion (yes, no) vs country:"
   ],
   "metadata": {
    "collapsed": false
   }
  },
  {
   "cell_type": "code",
   "execution_count": 477,
   "outputs": [
    {
     "data": {
      "text/plain": "<Figure size 432x288 with 1 Axes>",
      "image/png": "[encoded data removed]"
     },
     "metadata": {
      "needs_background": "light"
     },
     "output_type": "display_data"
    }
   ],
   "source": [
    "plt.hist(x = [data[data['converted']==1]['country'], data[data['converted']==0]['country']],\n",
    "         stacked=True, color = ['tab:green','tab:orange'],label = ['yes','no'])\n",
    "plt.legend()\n",
    "plt.show()"
   ],
   "metadata": {
    "collapsed": false,
    "pycharm": {
     "name": "#%%\n"
    }
   }
  },
  {
   "cell_type": "markdown",
   "source": [
    "- conversion (yes, no) vs age:"
   ],
   "metadata": {
    "collapsed": false
   }
  },
  {
   "cell_type": "code",
   "execution_count": 478,
   "outputs": [
    {
     "data": {
      "text/plain": "<Figure size 432x288 with 1 Axes>",
      "image/png": "[encoded data removed]"
     },
     "metadata": {
      "needs_background": "light"
     },
     "output_type": "display_data"
    }
   ],
   "source": [
    "plt.hist(x = [data[data['converted']==1]['age'], data[data['converted']==0]['age']],\n",
    "         stacked=True, color = ['tab:green','tab:orange'],label = ['yes','no'])\n",
    "plt.legend()\n",
    "plt.show()"
   ],
   "metadata": {
    "collapsed": false,
    "pycharm": {
     "name": "#%%\n"
    }
   }
  },
  {
   "cell_type": "markdown",
   "source": [
    "- conversion (yes, no) vs new_user:"
   ],
   "metadata": {
    "collapsed": false
   }
  },
  {
   "cell_type": "code",
   "execution_count": 479,
   "outputs": [
    {
     "data": {
      "text/plain": "<Figure size 432x288 with 1 Axes>",
      "image/png": "[encoded data removed]"
     },
     "metadata": {
      "needs_background": "light"
     },
     "output_type": "display_data"
    },
    {
     "name": "stdout",
     "output_type": "stream",
     "text": [
      "% of new users converted: 0.4588639131879083\n",
      "% of non-new users converted: 2.1792953667953667\n"
     ]
    }
   ],
   "source": [
    "plt.hist(x = [data[data['converted']==1]['new_user'], data[data['converted']==0]['new_user']],\n",
    "         stacked=True, color = ['tab:green','tab:orange'],label = ['yes','no'])\n",
    "plt.xticks([0,1])\n",
    "\n",
    "plt.legend()\n",
    "plt.show()\n",
    "converted_users = data.groupby('new_user')['converted'].count()\n",
    "print(\"% of new users converted:\", converted_users[0]/ data['new_user'].sum() )\n",
    "print(\"% of non-new users converted:\", converted_users[1]/(len(data['new_user'])- data['new_user'].sum()))\n"
   ],
   "metadata": {
    "collapsed": false,
    "pycharm": {
     "name": "#%%\n"
    }
   }
  },
  {
   "cell_type": "markdown",
   "source": [
    "The conversion vs age plot suggests the presence of odd ages in the dataset, so I will\n",
    "eliminate the rows where the age variable is greater than 100:"
   ],
   "metadata": {
    "collapsed": false
   }
  },
  {
   "cell_type": "code",
   "execution_count": 480,
   "outputs": [],
   "source": [
    "data_new = data[data['age'] < 100].reset_index()"
   ],
   "metadata": {
    "collapsed": false,
    "pycharm": {
     "name": "#%%\n"
    }
   }
  },
  {
   "cell_type": "markdown",
   "source": [
    "I can now keep cleaning the data set, by transforming the object type columns via hot encoding,\n",
    "and scaling the age and total_pages_visited columns (that otherwise would disproportionately influence the model).\n",
    "I will not touch the columns that are already binary:"
   ],
   "metadata": {
    "collapsed": false
   }
  },
  {
   "cell_type": "code",
   "execution_count": 481,
   "outputs": [
    {
     "name": "stdout",
     "output_type": "stream",
     "text": [
      "        country_China  country_Germany  country_UK  country_US  source_Ads  \\\n",
      "0                   0                0           1           0           1   \n",
      "1                   0                0           0           1           0   \n",
      "2                   0                0           0           1           0   \n",
      "3                   1                0           0           0           0   \n",
      "4                   0                0           0           1           0   \n",
      "...               ...              ...         ...         ...         ...   \n",
      "316193              0                0           0           1           1   \n",
      "316194              0                0           0           1           0   \n",
      "316195              1                0           0           0           1   \n",
      "316196              0                0           0           1           0   \n",
      "316197              0                0           1           0           1   \n",
      "\n",
      "        source_Direct  source_Seo       age  total_pages_visited  \n",
      "0                   0           0  0.129032             0.000000  \n",
      "1                   0           1  0.096774             0.142857  \n",
      "2                   0           1  0.177419             0.107143  \n",
      "3                   0           1  0.354839             0.142857  \n",
      "4                   0           1  0.209677             0.178571  \n",
      "...               ...         ...       ...                  ...  \n",
      "316193              0           0  0.145161             0.285714  \n",
      "316194              1           0  0.161290             0.178571  \n",
      "316195              0           0  0.129032             0.107143  \n",
      "316196              0           1  0.080645             0.107143  \n",
      "316197              0           0  0.112903             0.107143  \n",
      "\n",
      "[316198 rows x 9 columns]\n"
     ]
    }
   ],
   "source": [
    "#First I create a list of the object-type column names:\n",
    "scaler = MinMaxScaler()\n",
    "obj_cols = []\n",
    "to_scale = []\n",
    "for col in data_new.columns:\n",
    "    if data_new[col].dtype == 'object':\n",
    "        obj_cols.append(col)\n",
    "#Then I create a list of the columns to scale:\n",
    "to_scale = ['age', 'total_pages_visited']\n",
    "\n",
    "#I hot-encode the columns using get_dummies,\n",
    "#scale the others via MinMaxScaler\n",
    "#and finally I join the two resulting new databases with the old database 'new_user' and 'conversion'\n",
    "# columns that on't need to be scaled.\n",
    "\n",
    "scaled  = scaler.fit_transform(data_new[to_scale])\n",
    "scaled_df = pd.DataFrame(scaled.astype(float), columns=to_scale).reset_index(drop=True)\n",
    "\n",
    "one_hot = pd.get_dummies(data_new[obj_cols]).reset_index(drop=True)\n",
    "processed_data = pd.concat([one_hot.astype(int),scaled_df] , axis = 1)\n",
    "print(processed_data)\n",
    "processed_data['converted'] = data_new['converted']\n",
    "processed_data['new_user'] = data_new['new_user']"
   ],
   "metadata": {
    "collapsed": false,
    "pycharm": {
     "name": "#%%\n"
    }
   }
  },
  {
   "cell_type": "markdown",
   "source": [
    "# Modeling\n",
    "\n",
    "I now can train a Logistic Regression model, using the Recall as metric to evaluate its success.\n",
    "Before splitting the dataset in train and test data sets, I drop the object-type columns that have been hot-encoded and\n",
    "have been used for data exploration, but will not be used for modeling purposes."
   ],
   "metadata": {
    "collapsed": false
   }
  },
  {
   "cell_type": "code",
   "execution_count": 482,
   "outputs": [
    {
     "ename": "KeyError",
     "evalue": "\"['converted'] not found in axis\"",
     "output_type": "error",
     "traceback": [
      "\u001B[0;31m---------------------------------------------------------------------------\u001B[0m",
      "\u001B[0;31mKeyError\u001B[0m                                  Traceback (most recent call last)",
      "\u001B[0;32m<ipython-input-482-b61e9ee27a0b>\u001B[0m in \u001B[0;36m<module>\u001B[0;34m\u001B[0m\n\u001B[1;32m      1\u001B[0m \u001B[0;31m#Divide the dataset using the 'converted' columns as label and all the others as features.\u001B[0m\u001B[0;34m\u001B[0m\u001B[0;34m\u001B[0m\u001B[0;34m\u001B[0m\u001B[0m\n\u001B[0;32m----> 2\u001B[0;31m \u001B[0mX\u001B[0m \u001B[0;34m=\u001B[0m \u001B[0mprocessed_data\u001B[0m\u001B[0;34m.\u001B[0m\u001B[0mdrop\u001B[0m\u001B[0;34m(\u001B[0m\u001B[0mcolumns\u001B[0m\u001B[0;34m=\u001B[0m\u001B[0;34m[\u001B[0m\u001B[0;34m'converted'\u001B[0m\u001B[0;34m]\u001B[0m\u001B[0;34m)\u001B[0m\u001B[0;34m\u001B[0m\u001B[0;34m\u001B[0m\u001B[0m\n\u001B[0m\u001B[1;32m      3\u001B[0m \u001B[0my\u001B[0m \u001B[0;34m=\u001B[0m \u001B[0mprocessed_data\u001B[0m\u001B[0;34m[\u001B[0m\u001B[0;34m'converted'\u001B[0m\u001B[0;34m]\u001B[0m\u001B[0;34m\u001B[0m\u001B[0;34m\u001B[0m\u001B[0m\n\u001B[1;32m      4\u001B[0m \u001B[0mX_train\u001B[0m\u001B[0;34m,\u001B[0m \u001B[0mX_test\u001B[0m\u001B[0;34m,\u001B[0m \u001B[0my_train\u001B[0m\u001B[0;34m,\u001B[0m \u001B[0my_test\u001B[0m \u001B[0;34m=\u001B[0m \u001B[0mtrain_test_split\u001B[0m\u001B[0;34m(\u001B[0m\u001B[0mX\u001B[0m\u001B[0;34m,\u001B[0m \u001B[0my\u001B[0m\u001B[0;34m,\u001B[0m \u001B[0mtest_size\u001B[0m\u001B[0;34m=\u001B[0m\u001B[0;36m0.2\u001B[0m\u001B[0;34m)\u001B[0m\u001B[0;34m\u001B[0m\u001B[0;34m\u001B[0m\u001B[0m\n\u001B[1;32m      5\u001B[0m \u001B[0;34m\u001B[0m\u001B[0m\n",
      "\u001B[0;32m~/PycharmProjects/ConversionRate/venv/lib/python3.7/site-packages/pandas/core/frame.py\u001B[0m in \u001B[0;36mdrop\u001B[0;34m(self, labels, axis, index, columns, level, inplace, errors)\u001B[0m\n\u001B[1;32m   4165\u001B[0m             \u001B[0mlevel\u001B[0m\u001B[0;34m=\u001B[0m\u001B[0mlevel\u001B[0m\u001B[0;34m,\u001B[0m\u001B[0;34m\u001B[0m\u001B[0;34m\u001B[0m\u001B[0m\n\u001B[1;32m   4166\u001B[0m             \u001B[0minplace\u001B[0m\u001B[0;34m=\u001B[0m\u001B[0minplace\u001B[0m\u001B[0;34m,\u001B[0m\u001B[0;34m\u001B[0m\u001B[0;34m\u001B[0m\u001B[0m\n\u001B[0;32m-> 4167\u001B[0;31m             \u001B[0merrors\u001B[0m\u001B[0;34m=\u001B[0m\u001B[0merrors\u001B[0m\u001B[0;34m,\u001B[0m\u001B[0;34m\u001B[0m\u001B[0;34m\u001B[0m\u001B[0m\n\u001B[0m\u001B[1;32m   4168\u001B[0m         )\n\u001B[1;32m   4169\u001B[0m \u001B[0;34m\u001B[0m\u001B[0m\n",
      "\u001B[0;32m~/PycharmProjects/ConversionRate/venv/lib/python3.7/site-packages/pandas/core/generic.py\u001B[0m in \u001B[0;36mdrop\u001B[0;34m(self, labels, axis, index, columns, level, inplace, errors)\u001B[0m\n\u001B[1;32m   3876\u001B[0m         \u001B[0;32mfor\u001B[0m \u001B[0maxis\u001B[0m\u001B[0;34m,\u001B[0m \u001B[0mlabels\u001B[0m \u001B[0;32min\u001B[0m \u001B[0maxes\u001B[0m\u001B[0;34m.\u001B[0m\u001B[0mitems\u001B[0m\u001B[0;34m(\u001B[0m\u001B[0;34m)\u001B[0m\u001B[0;34m:\u001B[0m\u001B[0;34m\u001B[0m\u001B[0;34m\u001B[0m\u001B[0m\n\u001B[1;32m   3877\u001B[0m             \u001B[0;32mif\u001B[0m \u001B[0mlabels\u001B[0m \u001B[0;32mis\u001B[0m \u001B[0;32mnot\u001B[0m \u001B[0;32mNone\u001B[0m\u001B[0;34m:\u001B[0m\u001B[0;34m\u001B[0m\u001B[0;34m\u001B[0m\u001B[0m\n\u001B[0;32m-> 3878\u001B[0;31m                 \u001B[0mobj\u001B[0m \u001B[0;34m=\u001B[0m \u001B[0mobj\u001B[0m\u001B[0;34m.\u001B[0m\u001B[0m_drop_axis\u001B[0m\u001B[0;34m(\u001B[0m\u001B[0mlabels\u001B[0m\u001B[0;34m,\u001B[0m \u001B[0maxis\u001B[0m\u001B[0;34m,\u001B[0m \u001B[0mlevel\u001B[0m\u001B[0;34m=\u001B[0m\u001B[0mlevel\u001B[0m\u001B[0;34m,\u001B[0m \u001B[0merrors\u001B[0m\u001B[0;34m=\u001B[0m\u001B[0merrors\u001B[0m\u001B[0;34m)\u001B[0m\u001B[0;34m\u001B[0m\u001B[0;34m\u001B[0m\u001B[0m\n\u001B[0m\u001B[1;32m   3879\u001B[0m \u001B[0;34m\u001B[0m\u001B[0m\n\u001B[1;32m   3880\u001B[0m         \u001B[0;32mif\u001B[0m \u001B[0minplace\u001B[0m\u001B[0;34m:\u001B[0m\u001B[0;34m\u001B[0m\u001B[0;34m\u001B[0m\u001B[0m\n",
      "\u001B[0;32m~/PycharmProjects/ConversionRate/venv/lib/python3.7/site-packages/pandas/core/generic.py\u001B[0m in \u001B[0;36m_drop_axis\u001B[0;34m(self, labels, axis, level, errors)\u001B[0m\n\u001B[1;32m   3910\u001B[0m                 \u001B[0mnew_axis\u001B[0m \u001B[0;34m=\u001B[0m \u001B[0maxis\u001B[0m\u001B[0;34m.\u001B[0m\u001B[0mdrop\u001B[0m\u001B[0;34m(\u001B[0m\u001B[0mlabels\u001B[0m\u001B[0;34m,\u001B[0m \u001B[0mlevel\u001B[0m\u001B[0;34m=\u001B[0m\u001B[0mlevel\u001B[0m\u001B[0;34m,\u001B[0m \u001B[0merrors\u001B[0m\u001B[0;34m=\u001B[0m\u001B[0merrors\u001B[0m\u001B[0;34m)\u001B[0m\u001B[0;34m\u001B[0m\u001B[0;34m\u001B[0m\u001B[0m\n\u001B[1;32m   3911\u001B[0m             \u001B[0;32melse\u001B[0m\u001B[0;34m:\u001B[0m\u001B[0;34m\u001B[0m\u001B[0;34m\u001B[0m\u001B[0m\n\u001B[0;32m-> 3912\u001B[0;31m                 \u001B[0mnew_axis\u001B[0m \u001B[0;34m=\u001B[0m \u001B[0maxis\u001B[0m\u001B[0;34m.\u001B[0m\u001B[0mdrop\u001B[0m\u001B[0;34m(\u001B[0m\u001B[0mlabels\u001B[0m\u001B[0;34m,\u001B[0m \u001B[0merrors\u001B[0m\u001B[0;34m=\u001B[0m\u001B[0merrors\u001B[0m\u001B[0;34m)\u001B[0m\u001B[0;34m\u001B[0m\u001B[0;34m\u001B[0m\u001B[0m\n\u001B[0m\u001B[1;32m   3913\u001B[0m             \u001B[0mresult\u001B[0m \u001B[0;34m=\u001B[0m \u001B[0mself\u001B[0m\u001B[0;34m.\u001B[0m\u001B[0mreindex\u001B[0m\u001B[0;34m(\u001B[0m\u001B[0;34m**\u001B[0m\u001B[0;34m{\u001B[0m\u001B[0maxis_name\u001B[0m\u001B[0;34m:\u001B[0m \u001B[0mnew_axis\u001B[0m\u001B[0;34m}\u001B[0m\u001B[0;34m)\u001B[0m\u001B[0;34m\u001B[0m\u001B[0;34m\u001B[0m\u001B[0m\n\u001B[1;32m   3914\u001B[0m \u001B[0;34m\u001B[0m\u001B[0m\n",
      "\u001B[0;32m~/PycharmProjects/ConversionRate/venv/lib/python3.7/site-packages/pandas/core/indexes/base.py\u001B[0m in \u001B[0;36mdrop\u001B[0;34m(self, labels, errors)\u001B[0m\n\u001B[1;32m   5274\u001B[0m         \u001B[0;32mif\u001B[0m \u001B[0mmask\u001B[0m\u001B[0;34m.\u001B[0m\u001B[0many\u001B[0m\u001B[0;34m(\u001B[0m\u001B[0;34m)\u001B[0m\u001B[0;34m:\u001B[0m\u001B[0;34m\u001B[0m\u001B[0;34m\u001B[0m\u001B[0m\n\u001B[1;32m   5275\u001B[0m             \u001B[0;32mif\u001B[0m \u001B[0merrors\u001B[0m \u001B[0;34m!=\u001B[0m \u001B[0;34m\"ignore\"\u001B[0m\u001B[0;34m:\u001B[0m\u001B[0;34m\u001B[0m\u001B[0;34m\u001B[0m\u001B[0m\n\u001B[0;32m-> 5276\u001B[0;31m                 \u001B[0;32mraise\u001B[0m \u001B[0mKeyError\u001B[0m\u001B[0;34m(\u001B[0m\u001B[0;34mf\"{labels[mask]} not found in axis\"\u001B[0m\u001B[0;34m)\u001B[0m\u001B[0;34m\u001B[0m\u001B[0;34m\u001B[0m\u001B[0m\n\u001B[0m\u001B[1;32m   5277\u001B[0m             \u001B[0mindexer\u001B[0m \u001B[0;34m=\u001B[0m \u001B[0mindexer\u001B[0m\u001B[0;34m[\u001B[0m\u001B[0;34m~\u001B[0m\u001B[0mmask\u001B[0m\u001B[0;34m]\u001B[0m\u001B[0;34m\u001B[0m\u001B[0;34m\u001B[0m\u001B[0m\n\u001B[1;32m   5278\u001B[0m         \u001B[0;32mreturn\u001B[0m \u001B[0mself\u001B[0m\u001B[0;34m.\u001B[0m\u001B[0mdelete\u001B[0m\u001B[0;34m(\u001B[0m\u001B[0mindexer\u001B[0m\u001B[0;34m)\u001B[0m\u001B[0;34m\u001B[0m\u001B[0;34m\u001B[0m\u001B[0m\n",
      "\u001B[0;31mKeyError\u001B[0m: \"['converted'] not found in axis\""
     ]
    }
   ],
   "source": [
    "#Divide the dataset using the 'converted' columns as label and all the others as features.\n",
    "X = processed_data.drop(columns=['converted'])\n",
    "y = processed_data['converted']\n",
    "X_train, X_test, y_train, y_test = train_test_split(X, y, test_size=0.2)\n",
    "\n",
    "#Train the Logistic Regression classifier\n",
    "clf = LogisticRegressionCV(cv=5, class_weight='balanced', max_iter = 2000, scoring = 'recall')\n",
    "model = clf.fit(X_train, y_train)\n",
    "res = model.predict(X_test)\n",
    "\n",
    "\n",
    "print(metrics.recall_score(y_test, res))\n"
   ],
   "metadata": {
    "collapsed": false,
    "pycharm": {
     "name": "#%%\n"
    }
   }
  },
  {
   "cell_type": "markdown",
   "source": [
    "I determine the features importances in order to give suggestions on how to increase conversion:"
   ],
   "metadata": {
    "collapsed": false
   }
  },
  {
   "cell_type": "code",
   "execution_count": null,
   "outputs": [],
   "source": [
    "#The features importances are the coefficients of the Logistic Regression model.\n",
    "#I take the coefficients absolute values so that I can later sort them.\n",
    "importances = abs(model.coef_)\n",
    "tups = []\n",
    "\n",
    "#I create a tuple with the feature name and its importance score, then I print them in descending order.\n",
    "for i, v in enumerate(importances[0]):\n",
    "\ttups.append((X_train.columns[i], v))\n",
    "tups.sort(key=lambda x:x[1], reverse=True)\n",
    "for i in tups:\n",
    "    print(i)\n"
   ],
   "metadata": {
    "collapsed": false,
    "pycharm": {
     "name": "#%%\n"
    }
   }
  },
  {
   "cell_type": "markdown",
   "source": [
    "# Conclusions\n",
    "\n",
    "- Marketing campaign in China should be re-assessed (as seen in the exploration, conversion is null).\n",
    "- High number of total pages visited positively correlated to conversion: make website easier to navigate might increase the number of pages visited\n",
    "- Returning users are more likely to convert. This might explain why Direct is the most important among the marketing channels?\n",
    "- The conversion rate is higher in people aged 40 years old or less: make website easier to navigate for elderly people?"
   ],
   "metadata": {
    "collapsed": false
   }
  }
 ],
 "metadata": {
  "kernelspec": {
   "display_name": "Python 3",
   "language": "python",
   "name": "python3"
  },
  "language_info": {
   "codemirror_mode": {
    "name": "ipython",
    "version": 2
   },
   "file_extension": ".py",
   "mimetype": "text/x-python",
   "name": "python",
   "nbconvert_exporter": "python",
   "pygments_lexer": "ipython2",
   "version": "2.7.6"
  }
 },
 "nbformat": 4,
 "nbformat_minor": 0
}